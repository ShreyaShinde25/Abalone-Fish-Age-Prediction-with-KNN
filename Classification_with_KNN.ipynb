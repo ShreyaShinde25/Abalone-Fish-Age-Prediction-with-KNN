{
 "cells": [
  {
   "cell_type": "markdown",
   "id": "ae30994e",
   "metadata": {},
   "source": [
    "#  Classification with KNN"
   ]
  },
  {
   "cell_type": "markdown",
   "id": "a1e6abda",
   "metadata": {},
   "source": [
    "Repeating the data preprocessing steps from the previous question : "
   ]
  },
  {
   "cell_type": "markdown",
   "id": "6b10f8a9",
   "metadata": {},
   "source": [
    "#### Importing necessary libraries"
   ]
  },
  {
   "cell_type": "code",
   "execution_count": 3,
   "id": "be48e20f",
   "metadata": {},
   "outputs": [],
   "source": [
    "import warnings\n",
    "warnings.filterwarnings('ignore')"
   ]
  },
  {
   "cell_type": "code",
   "execution_count": 4,
   "id": "0903dad2",
   "metadata": {},
   "outputs": [],
   "source": [
    "import pandas as pd\n",
    "import numpy as np\n",
    "import seaborn as sns\n",
    "from math import sqrt\n",
    "from scipy import stats\n",
    "import matplotlib.pyplot as plt\n",
    "from sklearn.model_selection import train_test_split\n",
    "from sklearn.metrics import mean_squared_error \n",
    "from sklearn.metrics import confusion_matrix\n",
    "from sklearn.metrics import accuracy_score\n",
    "from sklearn.model_selection import cross_val_score\n",
    "from sklearn.neighbors import KNeighborsRegressor\n",
    "from sklearn.neighbors import KNeighborsClassifier \n",
    "from sklearn.preprocessing import scale"
   ]
  },
  {
   "cell_type": "markdown",
   "id": "116e4658",
   "metadata": {},
   "source": [
    "#### Loading dataset using pandas and store it as dataframe"
   ]
  },
  {
   "cell_type": "code",
   "execution_count": 5,
   "id": "b69f00a3",
   "metadata": {},
   "outputs": [],
   "source": [
    "colnames=['Sex', 'Length', 'Diameter', 'Height', 'Whole weight', 'Shucked weight', 'Viscera weight', 'Shell weight',  'Rings'] \n",
    "data = pd.read_csv('C:/Users/shrey/Downloads/abalone.csv', names=colnames, header=None)"
   ]
  },
  {
   "cell_type": "markdown",
   "id": "ce7b64d8",
   "metadata": {},
   "source": [
    "##  Starting by training the model with the classifier’s default parameters using the training set and test the model with the test set."
   ]
  },
  {
   "cell_type": "markdown",
   "id": "e185973a",
   "metadata": {},
   "source": [
    "Since KNN is a distance based algorithm which requires numeric value as input. Therefore, if the dataset contains categorical feature, they need to be transformed into the numerical values before they can be used as input into the KNN. As we know that the Sex feature in our dataset is a categorical feature and needs to be converted into a numeric value, we implemented One-hot encoding which is a common technique for transforming categorical data into numerical data.It makes it easier to understand the relationships between categories and the target variable."
   ]
  },
  {
   "cell_type": "code",
   "execution_count": 6,
   "id": "13961e41",
   "metadata": {},
   "outputs": [
    {
     "data": {
      "text/html": [
       "<div>\n",
       "<style scoped>\n",
       "    .dataframe tbody tr th:only-of-type {\n",
       "        vertical-align: middle;\n",
       "    }\n",
       "\n",
       "    .dataframe tbody tr th {\n",
       "        vertical-align: top;\n",
       "    }\n",
       "\n",
       "    .dataframe thead th {\n",
       "        text-align: right;\n",
       "    }\n",
       "</style>\n",
       "<table border=\"1\" class=\"dataframe\">\n",
       "  <thead>\n",
       "    <tr style=\"text-align: right;\">\n",
       "      <th></th>\n",
       "      <th>Length</th>\n",
       "      <th>Diameter</th>\n",
       "      <th>Height</th>\n",
       "      <th>Whole weight</th>\n",
       "      <th>Shucked weight</th>\n",
       "      <th>Viscera weight</th>\n",
       "      <th>Shell weight</th>\n",
       "      <th>Rings</th>\n",
       "      <th>F</th>\n",
       "      <th>I</th>\n",
       "      <th>M</th>\n",
       "    </tr>\n",
       "  </thead>\n",
       "  <tbody>\n",
       "    <tr>\n",
       "      <th>0</th>\n",
       "      <td>0.455</td>\n",
       "      <td>0.365</td>\n",
       "      <td>0.095</td>\n",
       "      <td>0.5140</td>\n",
       "      <td>0.2245</td>\n",
       "      <td>0.1010</td>\n",
       "      <td>0.150</td>\n",
       "      <td>15</td>\n",
       "      <td>0</td>\n",
       "      <td>0</td>\n",
       "      <td>1</td>\n",
       "    </tr>\n",
       "    <tr>\n",
       "      <th>1</th>\n",
       "      <td>0.350</td>\n",
       "      <td>0.265</td>\n",
       "      <td>0.090</td>\n",
       "      <td>0.2255</td>\n",
       "      <td>0.0995</td>\n",
       "      <td>0.0485</td>\n",
       "      <td>0.070</td>\n",
       "      <td>7</td>\n",
       "      <td>0</td>\n",
       "      <td>0</td>\n",
       "      <td>1</td>\n",
       "    </tr>\n",
       "    <tr>\n",
       "      <th>2</th>\n",
       "      <td>0.530</td>\n",
       "      <td>0.420</td>\n",
       "      <td>0.135</td>\n",
       "      <td>0.6770</td>\n",
       "      <td>0.2565</td>\n",
       "      <td>0.1415</td>\n",
       "      <td>0.210</td>\n",
       "      <td>9</td>\n",
       "      <td>1</td>\n",
       "      <td>0</td>\n",
       "      <td>0</td>\n",
       "    </tr>\n",
       "    <tr>\n",
       "      <th>3</th>\n",
       "      <td>0.440</td>\n",
       "      <td>0.365</td>\n",
       "      <td>0.125</td>\n",
       "      <td>0.5160</td>\n",
       "      <td>0.2155</td>\n",
       "      <td>0.1140</td>\n",
       "      <td>0.155</td>\n",
       "      <td>10</td>\n",
       "      <td>0</td>\n",
       "      <td>0</td>\n",
       "      <td>1</td>\n",
       "    </tr>\n",
       "    <tr>\n",
       "      <th>4</th>\n",
       "      <td>0.330</td>\n",
       "      <td>0.255</td>\n",
       "      <td>0.080</td>\n",
       "      <td>0.2050</td>\n",
       "      <td>0.0895</td>\n",
       "      <td>0.0395</td>\n",
       "      <td>0.055</td>\n",
       "      <td>7</td>\n",
       "      <td>0</td>\n",
       "      <td>1</td>\n",
       "      <td>0</td>\n",
       "    </tr>\n",
       "  </tbody>\n",
       "</table>\n",
       "</div>"
      ],
      "text/plain": [
       "   Length  Diameter  Height  Whole weight  Shucked weight  Viscera weight  \\\n",
       "0   0.455     0.365   0.095        0.5140          0.2245          0.1010   \n",
       "1   0.350     0.265   0.090        0.2255          0.0995          0.0485   \n",
       "2   0.530     0.420   0.135        0.6770          0.2565          0.1415   \n",
       "3   0.440     0.365   0.125        0.5160          0.2155          0.1140   \n",
       "4   0.330     0.255   0.080        0.2050          0.0895          0.0395   \n",
       "\n",
       "   Shell weight  Rings  F  I  M  \n",
       "0         0.150     15  0  0  1  \n",
       "1         0.070      7  0  0  1  \n",
       "2         0.210      9  1  0  0  \n",
       "3         0.155     10  0  0  1  \n",
       "4         0.055      7  0  1  0  "
      ]
     },
     "execution_count": 6,
     "metadata": {},
     "output_type": "execute_result"
    }
   ],
   "source": [
    "#one hot encoding\n",
    "df=data.copy()\n",
    "one_hot=pd.get_dummies(df['Sex'])\n",
    "df=df.drop('Sex',axis=1)\n",
    "df=df.join(one_hot)\n",
    "df.head()"
   ]
  },
  {
   "cell_type": "markdown",
   "id": "5f95ed24",
   "metadata": {},
   "source": [
    "We start training the model by splitting the training set and test set. \n",
    "x contains all the features and y contains the target varaible('Rings').\n",
    "By default, the train_test_split function splits the data into 75% training data and 25% test data."
   ]
  },
  {
   "cell_type": "code",
   "execution_count": 7,
   "id": "1d107566",
   "metadata": {},
   "outputs": [],
   "source": [
    "# split training and test data\n",
    "x= df.loc[:,df.columns!='Rings']\n",
    "y= df.loc[:,'Rings']    \n",
    "x_train, x_test, y_train, y_test= train_test_split(x, y, random_state=123)"
   ]
  },
  {
   "cell_type": "markdown",
   "id": "79d2edc9",
   "metadata": {},
   "source": [
    "**Note: Used 'random_state' parameter to set a seed for the random number generator. This helps us splitting our dataset into training and testing set as it ensures that the same split is performed each time you run the code.**"
   ]
  },
  {
   "cell_type": "markdown",
   "id": "eaa7be3c",
   "metadata": {},
   "source": [
    "Since KNN is a distance based algorithm which requires numeric value as input. Therefore, if the dataset contains categorical feature, they need to be transformed into the numerical values before they can be used as input into the KNN. As we know that the Sex feature in our dataset is a categorical feature and needs to be converted into a numeric value, we implemented One-hot encoding which is a common technique for transforming categorical data into numerical data.It makes it easier to understand the relationships between categories and the target variable."
   ]
  },
  {
   "cell_type": "markdown",
   "id": "91d2033c",
   "metadata": {},
   "source": [
    "KNeighborsClassifier is a class from scikit learn library. It implements the KNN algorithm for classification and provides a convenient interface for fitting the model to the training data and making predictions on new data. \n",
    "\n",
    "The default value of k in the library is 5. "
   ]
  },
  {
   "cell_type": "code",
   "execution_count": 8,
   "id": "16a88e51",
   "metadata": {},
   "outputs": [
    {
     "data": {
      "text/plain": [
       "KNeighborsClassifier()"
      ]
     },
     "execution_count": 8,
     "metadata": {},
     "output_type": "execute_result"
    }
   ],
   "source": [
    "neigh=KNeighborsClassifier()\n",
    "neigh.fit(x_train, y_train)"
   ]
  },
  {
   "cell_type": "markdown",
   "id": "c19833e7",
   "metadata": {},
   "source": [
    "\n",
    "After training the model on a training dataset, we make use of predict() method to make predictions on new data points that have not been seen during the training period. \n",
    "We are storing the results of the new test dataset 'x_test' into the 'test_pred' variable in the following code. "
   ]
  },
  {
   "cell_type": "code",
   "execution_count": 9,
   "id": "f182dabf",
   "metadata": {},
   "outputs": [],
   "source": [
    "test_pred= neigh.predict(x_test)\n",
    "# y_test to convert as numpy array\n",
    "test_y=y_test.values"
   ]
  },
  {
   "cell_type": "markdown",
   "id": "acab8370",
   "metadata": {},
   "source": [
    "#### Evaluating the model performance using the confusion matrix\n",
    "In order to evaluate the performance of our KNN model, we chose confusion matrix. It contains 4 main components - true positive, true negative, false positive and false negative. \n",
    "The diagonal of a confusion matrix for a KNN model represents the number of correctly classified instances, ie; it will contain the number of true positives and true negatives."
   ]
  },
  {
   "cell_type": "code",
   "execution_count": 10,
   "id": "fb850743",
   "metadata": {},
   "outputs": [
    {
     "data": {
      "text/plain": [
       "24.401913875598087"
      ]
     },
     "metadata": {},
     "output_type": "display_data"
    }
   ],
   "source": [
    "# accuracy using confusion matrix\n",
    "dup=confusion_matrix(test_y,test_pred)\n",
    "diag_sum= dup.diagonal().sum()\n",
    "total = dup.sum()\n",
    "accuracy=(diag_sum/total)*100\n",
    "display(accuracy)"
   ]
  },
  {
   "cell_type": "markdown",
   "id": "574085b8",
   "metadata": {},
   "source": [
    "To calculate the model accuracy, we took the ratio of correctly classified instances to the total number of instances in the test dataset.\n",
    "Therefore, **the accuracy of the model is determined to be 24.40%** "
   ]
  },
  {
   "cell_type": "markdown",
   "id": "f7ded899",
   "metadata": {},
   "source": [
    "#### Evaluating the model performance using inbuilt score() of sklearn library"
   ]
  },
  {
   "cell_type": "markdown",
   "id": "a529c969",
   "metadata": {},
   "source": [
    "After training the KNN model and using it to make prediction on a test set, we can use core method to calculate the accuracy of the prediction. It calculates the proportion of correctly classified instances. "
   ]
  },
  {
   "cell_type": "code",
   "execution_count": 11,
   "id": "323dac32",
   "metadata": {},
   "outputs": [
    {
     "name": "stdout",
     "output_type": "stream",
     "text": [
      "24.401913875598087\n"
     ]
    }
   ],
   "source": [
    "# inbuilt fucntion accuracy\n",
    "print(neigh.score(x_test, y_test)*100)"
   ]
  },
  {
   "cell_type": "markdown",
   "id": "d5af1b45",
   "metadata": {},
   "source": [
    "The accuracy of the model is found to be exactly same in both the methods."
   ]
  },
  {
   "cell_type": "markdown",
   "id": "513c3087",
   "metadata": {},
   "source": [
    "## Different values of k will lead to different results. "
   ]
  },
  {
   "cell_type": "code",
   "execution_count": 12,
   "id": "4fabf71c",
   "metadata": {},
   "outputs": [
    {
     "name": "stdout",
     "output_type": "stream",
     "text": [
      "24.593301435406698\n"
     ]
    }
   ],
   "source": [
    "neigh=KNeighborsClassifier(n_neighbors=7)\n",
    "neigh.fit(x_train, y_train)\n",
    "print(neigh.score(x_test, y_test)*100)"
   ]
  },
  {
   "cell_type": "code",
   "execution_count": 13,
   "id": "897806eb",
   "metadata": {},
   "outputs": [
    {
     "name": "stdout",
     "output_type": "stream",
     "text": [
      "26.698564593301437\n"
     ]
    }
   ],
   "source": [
    "neigh=KNeighborsClassifier(n_neighbors=9)\n",
    "neigh.fit(x_train, y_train)\n",
    "print(neigh.score(x_test, y_test)*100)"
   ]
  },
  {
   "cell_type": "code",
   "execution_count": 14,
   "id": "33d70de9",
   "metadata": {},
   "outputs": [
    {
     "name": "stdout",
     "output_type": "stream",
     "text": [
      "26.31578947368421\n"
     ]
    }
   ],
   "source": [
    "neigh=KNeighborsClassifier(n_neighbors=11)\n",
    "neigh.fit(x_train, y_train)\n",
    "print(neigh.score(x_test, y_test)*100)"
   ]
  },
  {
   "cell_type": "markdown",
   "id": "91a824e9",
   "metadata": {},
   "source": [
    "The above code shows that different values of k leads to different accuracy. Also, the accuracy of the model for the given dataset was found to be below 50%. "
   ]
  },
  {
   "cell_type": "markdown",
   "id": "dbcd53a1",
   "metadata": {},
   "source": [
    "##  Tuning the classifier- find the best value for k"
   ]
  },
  {
   "cell_type": "markdown",
   "id": "6b1445e1",
   "metadata": {},
   "source": [
    "##  First divide the data into Training and Testing sets in the ratio 80%/20%"
   ]
  },
  {
   "cell_type": "code",
   "execution_count": 15,
   "id": "62a9b736",
   "metadata": {},
   "outputs": [],
   "source": [
    "# Splitting the data into training set(80%) and test sets (20%)\n",
    "x_train, x_test, y_train, y_test= train_test_split(x, y,test_size=0.2, random_state=12345)"
   ]
  },
  {
   "cell_type": "markdown",
   "id": "261429e5",
   "metadata": {},
   "source": [
    "##  Testing a range of values for the KNN parameter k using 5-fold cross validation on the Training set."
   ]
  },
  {
   "cell_type": "markdown",
   "id": "3ac509ff",
   "metadata": {},
   "source": [
    "In k-fold cross-validation, the original dataset is divided into k equally sized subsets, or folds. The model is then trained on k-1 of the folds and tested on the remaining one. This process is repeated k times, with a different fold being used as the test set in each iteration. The performance of the model is then averaged across the k iterations to provide an overall evaluation of the model's performance.\n",
    "\n",
    "The main advantage of k-fold cross-validation is that it provides a more robust estimate of the model's performance compared to using a single train/test split. By using multiple subsets of the data, it provides a better indication of how the model will perform on unseen data.A high value of k will result in a slower evaluation process, but will provide a more accurate estimate of the model's performance."
   ]
  },
  {
   "cell_type": "markdown",
   "id": "b58bc6cc",
   "metadata": {},
   "source": [
    "### Sample code for 5-fold cross validation with 3 nearest neighbors\n",
    "The following code returns the 5 cv scores and the mean of the cv scores."
   ]
  },
  {
   "cell_type": "code",
   "execution_count": 16,
   "id": "81c30523",
   "metadata": {},
   "outputs": [
    {
     "name": "stdout",
     "output_type": "stream",
     "text": [
      "[0.20627803 0.21856287 0.20808383 0.21407186 0.21257485]\n",
      "cv_scores mean:0.21191428801589646\n"
     ]
    }
   ],
   "source": [
    "#create a new KNN model\n",
    "knn_cv = KNeighborsClassifier(n_neighbors=3)\n",
    "#train model with cv of 5 \n",
    "cv_scores = cross_val_score(knn_cv, x_train, y_train, cv=5)\n",
    "#print each cv score (accuracy) and average them\n",
    "print(cv_scores)\n",
    "print('cv_scores mean:{}'.format(np.mean(cv_scores)))"
   ]
  },
  {
   "cell_type": "markdown",
   "id": "134df619",
   "metadata": {},
   "source": [
    "#### To tune the classifier, run the k-fold cross validation where k=5, with different value of K ranging from 1 to 100."
   ]
  },
  {
   "cell_type": "code",
   "execution_count": 20,
   "id": "5cb875ad",
   "metadata": {},
   "outputs": [
    {
     "name": "stdout",
     "output_type": "stream",
     "text": [
      "Acuracy_scores:- ['21.10', '22.39', '21.19', '22.15', '23.08', '23.32', '24.27', '24.39', '24.60', '25.38', '25.38', '25.29', '25.95', '25.44', '26.13', '25.92', '25.71', '26.01', '26.46', '26.40', '26.25', '26.55', '26.13', '26.43', '26.07', '26.34', '25.98', '26.61', '26.25', '26.55', '26.52', '26.88', '27.27', '27.30', '26.52', '26.67', '26.49', '26.70', '26.58', '26.19', '26.31', '26.28', '26.34', '26.43', '26.40', '26.28', '26.19', '26.13', '26.25', '26.40', '26.19', '26.37', '26.16', '26.22', '26.43', '26.13', '26.34', '26.22', '25.71', '25.80', '25.77', '25.95', '25.59', '25.86', '25.74', '25.71', '25.92', '26.19', '26.04', '25.92', '26.04', '26.01', '26.07', '26.01', '25.92', '26.22', '25.98', '26.10', '25.89', '26.07', '26.28', '26.22', '26.16', '26.01', '26.16', '26.40', '26.16', '26.01', '26.01', '26.04', '25.71', '26.07', '25.98', '25.89', '26.01', '26.07', '25.98', '25.92', '25.53', '25.74']\n"
     ]
    }
   ],
   "source": [
    "accuracy_scores=[]\n",
    "for k in range(1,101):\n",
    "    knn_cv = KNeighborsClassifier(n_neighbors=k)\n",
    "    cv_scores=cross_val_score(knn_cv, x_train,y_train,cv=5)\n",
    "    accuracy_scores.append(np.mean(cv_scores)*100)\n",
    "formatted_list= ['%.2f' % elem for elem in accuracy_scores]\n",
    "print('Acuracy_scores:-',formatted_list)\n",
    "#     print('Hyperparameter k =',k,'cv_scores mean:{}'.format(np.mean(cv_scores)))\n",
    "    "
   ]
  },
  {
   "cell_type": "markdown",
   "id": "faa1f276",
   "metadata": {},
   "source": [
    "Choosing an appropriate value of k is an important step in tuning the KNN algorithm.It can be observed that, when k is low,the algorithm is more sensitive to individual observations, leading to overfitting and high variance. When k is high, the algorithm is less sensitive to individual observations, leading to underfitting and high bias.\n",
    "Therefore, choosing a value of k that lies in the middle can help strike a balance between these two trade-offs and avoid overfitting or underfitting. \n",
    "\n",
    "**Therefore, the optimum value of k is 34.**\n"
   ]
  },
  {
   "cell_type": "markdown",
   "id": "ac9f60d5",
   "metadata": {},
   "source": [
    "## producing one plot of the mean validation accuracy vs. k across all folds."
   ]
  },
  {
   "cell_type": "code",
   "execution_count": 21,
   "id": "7a86bbf1",
   "metadata": {},
   "outputs": [
    {
     "name": "stdout",
     "output_type": "stream",
     "text": [
      "The maximum Accuracy 27.29827340834027 % is observed at k = 34\n"
     ]
    },
    {
     "data": {
      "image/png": "[encoded data removed]",
      "text/plain": [
       "<Figure size 640x480 with 1 Axes>"
      ]
     },
     "metadata": {},
     "output_type": "display_data"
    }
   ],
   "source": [
    "#potting accuracy for different values of K\n",
    "k=np.arange(1,101)\n",
    "plt.plot(k,accuracy_scores)\n",
    "plt.xlabel('Hyperparameter k')\n",
    "plt.ylabel(' Mean validation accuracy')\n",
    "# plt.xlim(0,len(k)+1)\n",
    "# plt.ylim(0,max(accuracy_scores)+0.1)\n",
    "\n",
    "# Get the index of the maximum value\n",
    "max_index = accuracy_scores.index(max(accuracy_scores)) + 1\n",
    "# Plot markers for the maximum values\n",
    "plt.scatter(max_index, max(accuracy_scores), c='red',marker='o')\n",
    "plt.axvline(max_index,color='red',linestyle='--')\n",
    "print('The maximum Accuracy', max(accuracy_scores),'%','is observed at k =', max_index)\n",
    "plt.show()"
   ]
  },
  {
   "cell_type": "markdown",
   "id": "22496fbe",
   "metadata": {},
   "source": [
    "## Once a promising value of k is chosen, you can retrain KNN using that k on all the training data and calculate accuracy on the held out Test set and report this result."
   ]
  },
  {
   "cell_type": "code",
   "execution_count": 22,
   "id": "c74d9197",
   "metadata": {},
   "outputs": [
    {
     "name": "stdout",
     "output_type": "stream",
     "text": [
      "After retraining the KNN model with k=34, we get the accuracy of the model as: 26.435406698564595 %\n"
     ]
    }
   ],
   "source": [
    "#training for k=34 \n",
    "neigh=KNeighborsClassifier(n_neighbors=34)\n",
    "neigh.fit(x_train, y_train)\n",
    "\n",
    "test_pred= neigh.predict(x_test)\n",
    "test_y=y_test.values\n",
    "accuracy= neigh.score(x_test, y_test)\n",
    "# print(neigh.score(x_test, y_test))\n",
    "print('After retraining the KNN model with k=34, we get the accuracy of the model as:',accuracy*100,'%')"
   ]
  },
  {
   "cell_type": "markdown",
   "id": "97ed8559",
   "metadata": {},
   "source": [
    "## Improving on KNN: using the method of weighted KNN"
   ]
  },
  {
   "cell_type": "markdown",
   "id": "909a65ee",
   "metadata": {},
   "source": [
    "### using your chosen value of k above compute the values on your Test set using the other weighting methods. "
   ]
  },
  {
   "cell_type": "markdown",
   "id": "66366628",
   "metadata": {},
   "source": [
    "\"weight\" refers to the importance assigned to each of the k nearest neighbors of a query point when making a prediction for that point. "
   ]
  },
  {
   "cell_type": "markdown",
   "id": "82f2617b",
   "metadata": {},
   "source": [
    "weights='distance' refers to weight points by the inverse of their distance. in this case, closer neighbors of a query point will have a greater influence than neighbors which are further away."
   ]
  },
  {
   "cell_type": "code",
   "execution_count": 23,
   "id": "2053a445",
   "metadata": {},
   "outputs": [
    {
     "data": {
      "text/plain": [
       "0.27751196172248804"
      ]
     },
     "execution_count": 23,
     "metadata": {},
     "output_type": "execute_result"
    }
   ],
   "source": [
    "knn=KNeighborsClassifier(n_neighbors=34, weights='distance')\n",
    "knn.fit(x_train, y_train)\n",
    "knn.score(x_test, y_test)"
   ]
  },
  {
   "cell_type": "markdown",
   "id": "e09e0172",
   "metadata": {},
   "source": [
    "weights= 'uniform' refers to uniform weights.All points in each neighborhood are weighted equally."
   ]
  },
  {
   "cell_type": "code",
   "execution_count": 24,
   "id": "87b9e19d",
   "metadata": {},
   "outputs": [
    {
     "name": "stdout",
     "output_type": "stream",
     "text": [
      "Accuracy (default weighting method): 26.435406698564595 %\n"
     ]
    }
   ],
   "source": [
    "knn=KNeighborsClassifier(n_neighbors=34, weights='uniform')\n",
    "knn.fit(x_train, y_train)\n",
    "accuracy= knn.score(x_test, y_test)\n",
    "print('Accuracy (default weighting method):', accuracy*100,'%')"
   ]
  },
  {
   "cell_type": "markdown",
   "id": "4ab83421",
   "metadata": {},
   "source": [
    "### Metric to use for distance computation \n",
    "\n",
    "The distance metric determines how the algorithm measures the similarity between instances in training and test data. It is used to determine which instances in training data are nearest to an instance in the test data. Different distance metrics can be used in KNN which are as follows:-"
   ]
  },
  {
   "cell_type": "markdown",
   "id": "e1f73d78",
   "metadata": {},
   "source": [
    "1. Manhattan : Manhattan Distance is given by | x 1 − x 2 | + | y 1 − y 2 | "
   ]
  },
  {
   "cell_type": "code",
   "execution_count": 25,
   "id": "321cac12",
   "metadata": {},
   "outputs": [
    {
     "name": "stdout",
     "output_type": "stream",
     "text": [
      "Accuracy (Manhattan weighting method): 25.358851674641148 %\n"
     ]
    }
   ],
   "source": [
    "knn=KNeighborsClassifier(n_neighbors=34,weights= 'distance', metric= 'manhattan')\n",
    "knn.fit(x_train, y_train)\n",
    "accuracy=knn.score(x_test, y_test)\n",
    "print('Accuracy (Manhattan weighting method):', accuracy*100,'%')"
   ]
  },
  {
   "cell_type": "markdown",
   "id": "95210104",
   "metadata": {},
   "source": [
    "2. Euclidean : Euclidean = d = √[ (x2– x1)^2 + (y2–y1)^2]"
   ]
  },
  {
   "cell_type": "code",
   "execution_count": 26,
   "id": "94a5838c",
   "metadata": {},
   "outputs": [
    {
     "name": "stdout",
     "output_type": "stream",
     "text": [
      "Accuracy (Euclidean weighting method): 27.751196172248804 %\n"
     ]
    }
   ],
   "source": [
    "knn=KNeighborsClassifier(n_neighbors=34, weights= 'distance',metric= 'euclidean')\n",
    "knn.fit(x_train, y_train)\n",
    "accuracy=knn.score(x_test, y_test)\n",
    "print('Accuracy (Euclidean weighting method):', accuracy*100,'%')"
   ]
  },
  {
   "cell_type": "markdown",
   "id": "281e7dd2",
   "metadata": {},
   "source": [
    "3. Minkowski : Minkowski= d = ( |X1 – Y1|^p + |X2 – Y2|^p  + |X3– Y3|^p )1/p"
   ]
  },
  {
   "cell_type": "code",
   "execution_count": 27,
   "id": "7c45c465",
   "metadata": {},
   "outputs": [
    {
     "name": "stdout",
     "output_type": "stream",
     "text": [
      "Accuracy (Minkowski weighting method): 27.751196172248804 %\n"
     ]
    }
   ],
   "source": [
    "knn=KNeighborsClassifier(n_neighbors=34, weights= 'distance',metric= 'minkowski')\n",
    "knn.fit(x_train, y_train)\n",
    "accuracy=knn.score(x_test, y_test)\n",
    "print('Accuracy (Minkowski weighting method):', accuracy*100,'%')"
   ]
  },
  {
   "cell_type": "markdown",
   "id": "a9d81e6c",
   "metadata": {},
   "source": [
    "\n",
    "\n",
    "4. Cosine: cosine = (A.B) / (||A||.||B||"
   ]
  },
  {
   "cell_type": "code",
   "execution_count": 28,
   "id": "c845956b",
   "metadata": {},
   "outputs": [
    {
     "name": "stdout",
     "output_type": "stream",
     "text": [
      "Accuracy (Cosine weighting method): 25.95693779904306 %\n"
     ]
    }
   ],
   "source": [
    "knn=KNeighborsClassifier(n_neighbors=34, weights= 'distance',metric= 'cosine')\n",
    "knn.fit(x_train, y_train)\n",
    "accuracy=knn.score(x_test, y_test)\n",
    "print('Accuracy (Cosine weighting method):', accuracy*100,'%')"
   ]
  },
  {
   "cell_type": "markdown",
   "id": "05ff1f92",
   "metadata": {},
   "source": [
    "The choice of distance metric can affect the performance of the KNN algorithm which can be seen, so it is important to choose an appropriate distance metric based on the characteristic of the data and the problem we are trying to solve. "
   ]
  },
  {
   "cell_type": "markdown",
   "id": "567cc76e",
   "metadata": {},
   "source": [
    "### Comparing the three different weighting schemes (default, Manhatten, Euclidean) by plotting accuracy vs k for all three of them on the same figure to see the effect."
   ]
  },
  {
   "cell_type": "code",
   "execution_count": 29,
   "id": "e9e36f15",
   "metadata": {},
   "outputs": [
    {
     "data": {
      "image/png": "[encoded data removed]",
      "text/plain": [
       "<Figure size 640x480 with 1 Axes>"
      ]
     },
     "metadata": {},
     "output_type": "display_data"
    }
   ],
   "source": [
    "k_range = np.arange(1, 50)\n",
    "\n",
    "# Initialize arrays to store the accuracy scores for each weighting scheme\n",
    "uniform_scores = []\n",
    "manhattan_scores = []\n",
    "euclidean_scores = []\n",
    "cosine_scores=[]\n",
    "\n",
    "# Loop over k-values\n",
    "for k in k_range:\n",
    "    # Fit the KNN classifier with default weighting scheme\n",
    "    knn = KNeighborsClassifier(n_neighbors=k, weights='uniform')\n",
    "    knn.fit(x_train, y_train)\n",
    "    y_pred = knn.predict(x_test)\n",
    "    uniform_scores.append(accuracy_score(y_test, y_pred))\n",
    "    \n",
    "    # Fit the KNN classifier with Manhattan weighting scheme\n",
    "    knn = KNeighborsClassifier(n_neighbors=k, weights='distance', metric='manhattan')\n",
    "    knn.fit(x_train, y_train)\n",
    "    y_pred = knn.predict(x_test)\n",
    "    manhattan_scores.append(accuracy_score(y_test, y_pred))\n",
    "    \n",
    "    # Fit the KNN classifier with Euclidean weighting scheme\n",
    "    knn = KNeighborsClassifier(n_neighbors=k, weights='distance', metric='euclidean')\n",
    "    knn.fit(x_train, y_train)\n",
    "    y_pred = knn.predict(x_test)\n",
    "    euclidean_scores.append(accuracy_score(y_test, y_pred))\n",
    "    \n",
    "# Plot the accuracy scores for each weighting scheme\n",
    "plt.plot(k_range, uniform_scores, label='default')\n",
    "plt.plot(k_range, manhattan_scores, label='Manhattan')\n",
    "plt.plot(k_range, euclidean_scores, label='Euclidean')\n",
    "\n",
    "\n",
    "# Add labels and title to the plot\n",
    "plt.xlabel('k')\n",
    "plt.ylabel('Accuracy')\n",
    "plt.title('Accuracy vs k for Different Weighting Schemes')\n",
    "plt.legend()\n",
    "\n",
    "plt.show()"
   ]
  },
  {
   "cell_type": "markdown",
   "id": "f2046254",
   "metadata": {},
   "source": [
    "The graph produced shows the relationship between the number of neighbors (k) and the accuracy of the KNN classifier for different weighting schemes.The three lines in the graph correspond to the accuracy scores for the default, manhattan, and euclidean weighting schemes, respectively.\n",
    "\n",
    "It can be observed that, the highest accuracy for a given k is achieved with Euclidean weighing scheme than the Manhattan and default weighing scheme."
   ]
  },
  {
   "cell_type": "markdown",
   "id": "d934b2e6",
   "metadata": {},
   "source": [
    "## Bibliography:\n",
    "1. https://scikit-learn.org/stable/modules/generated/sklearn.neighbors.KNeighborsClassifier.html\n",
    "2. https://scikit-learn.org/stable/modules/cross_validation.html#cross-validation\n",
    "3. https://machinelearningmastery.com/k-nearest-neighbors-for-machine-learning\n",
    "4. https://www.youtube.com/@dataandknowledgemodelingan75"
   ]
  }
 ],
 "metadata": {
  "kernelspec": {
   "display_name": "Python 3 (ipykernel)",
   "language": "python",
   "name": "python3"
  },
  "language_info": {
   "codemirror_mode": {
    "name": "ipython",
    "version": 3
   },
   "file_extension": ".py",
   "mimetype": "text/x-python",
   "name": "python",
   "nbconvert_exporter": "python",
   "pygments_lexer": "ipython3",
   "version": "3.9.6"
  }
 },
 "nbformat": 4,
 "nbformat_minor": 5
}
